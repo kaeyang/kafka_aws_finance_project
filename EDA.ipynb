{
 "cells": [
  {
   "cell_type": "code",
   "execution_count": 1,
   "metadata": {},
   "outputs": [],
   "source": [
    "import pandas as pd\n",
    "import numpy as np\n",
    "import matplotlib.pyplot as plt\n",
    "import datetime"
   ]
  },
  {
   "cell_type": "code",
   "execution_count": 2,
   "metadata": {},
   "outputs": [
    {
     "data": {
      "text/html": [
       "<div>\n",
       "<style scoped>\n",
       "    .dataframe tbody tr th:only-of-type {\n",
       "        vertical-align: middle;\n",
       "    }\n",
       "\n",
       "    .dataframe tbody tr th {\n",
       "        vertical-align: top;\n",
       "    }\n",
       "\n",
       "    .dataframe thead th {\n",
       "        text-align: right;\n",
       "    }\n",
       "</style>\n",
       "<table border=\"1\" class=\"dataframe\">\n",
       "  <thead>\n",
       "    <tr style=\"text-align: right;\">\n",
       "      <th></th>\n",
       "      <th>date</th>\n",
       "      <th>time</th>\n",
       "      <th>price</th>\n",
       "      <th>volume</th>\n",
       "    </tr>\n",
       "  </thead>\n",
       "  <tbody>\n",
       "    <tr>\n",
       "      <th>0</th>\n",
       "      <td>01/03/2000</td>\n",
       "      <td>08:30:34.000</td>\n",
       "      <td>1496.4</td>\n",
       "      <td>0</td>\n",
       "    </tr>\n",
       "    <tr>\n",
       "      <th>1</th>\n",
       "      <td>01/03/2000</td>\n",
       "      <td>08:30:36.000</td>\n",
       "      <td>1496.0</td>\n",
       "      <td>0</td>\n",
       "    </tr>\n",
       "    <tr>\n",
       "      <th>2</th>\n",
       "      <td>01/03/2000</td>\n",
       "      <td>08:30:37.000</td>\n",
       "      <td>1495.5</td>\n",
       "      <td>0</td>\n",
       "    </tr>\n",
       "    <tr>\n",
       "      <th>3</th>\n",
       "      <td>01/03/2000</td>\n",
       "      <td>08:30:46.000</td>\n",
       "      <td>1495.0</td>\n",
       "      <td>0</td>\n",
       "    </tr>\n",
       "    <tr>\n",
       "      <th>4</th>\n",
       "      <td>01/03/2000</td>\n",
       "      <td>08:30:53.000</td>\n",
       "      <td>1495.5</td>\n",
       "      <td>0</td>\n",
       "    </tr>\n",
       "  </tbody>\n",
       "</table>\n",
       "</div>"
      ],
      "text/plain": [
       "         date          time   price  volume\n",
       "0  01/03/2000  08:30:34.000  1496.4       0\n",
       "1  01/03/2000  08:30:36.000  1496.0       0\n",
       "2  01/03/2000  08:30:37.000  1495.5       0\n",
       "3  01/03/2000  08:30:46.000  1495.0       0\n",
       "4  01/03/2000  08:30:53.000  1495.5       0"
      ]
     },
     "execution_count": 2,
     "metadata": {},
     "output_type": "execute_result"
    }
   ],
   "source": [
    "raw_df = pd.read_csv('SP.csv')\n",
    "raw_df.head()"
   ]
  },
  {
   "cell_type": "markdown",
   "metadata": {},
   "source": [
    "### Exploratory Data Analysis and Data Augmentation"
   ]
  },
  {
   "cell_type": "code",
   "execution_count": 3,
   "metadata": {},
   "outputs": [
    {
     "name": "stdout",
     "output_type": "stream",
     "text": [
      "<class 'pandas.core.frame.DataFrame'>\n",
      "RangeIndex: 13802502 entries, 0 to 13802501\n",
      "Data columns (total 4 columns):\n",
      " #   Column  Dtype  \n",
      "---  ------  -----  \n",
      " 0   date    object \n",
      " 1   time    object \n",
      " 2   price   float64\n",
      " 3   volume  int64  \n",
      "dtypes: float64(1), int64(1), object(2)\n",
      "memory usage: 421.2+ MB\n"
     ]
    }
   ],
   "source": [
    "raw_df.info()"
   ]
  },
  {
   "cell_type": "markdown",
   "metadata": {},
   "source": [
    "Check for null values"
   ]
  },
  {
   "cell_type": "code",
   "execution_count": 4,
   "metadata": {},
   "outputs": [
    {
     "data": {
      "text/plain": [
       "date      0\n",
       "time      0\n",
       "price     0\n",
       "volume    0\n",
       "dtype: int64"
      ]
     },
     "execution_count": 4,
     "metadata": {},
     "output_type": "execute_result"
    }
   ],
   "source": [
    "raw_df.isnull().sum()"
   ]
  },
  {
   "cell_type": "code",
   "execution_count": 5,
   "metadata": {},
   "outputs": [],
   "source": [
    "df = raw_df.copy()"
   ]
  },
  {
   "cell_type": "markdown",
   "metadata": {},
   "source": [
    "Convert date and time to datetime first"
   ]
  },
  {
   "cell_type": "code",
   "execution_count": 6,
   "metadata": {},
   "outputs": [],
   "source": [
    "df['date'] = pd.to_datetime(df['date'], format=\"%m/%d/%Y\")\n",
    "df['time'] = pd.to_datetime(df['time'], format='%H:%M:%S.%f').dt.time"
   ]
  },
  {
   "cell_type": "markdown",
   "metadata": {},
   "source": [
    "What is the date range of the dataset? It starts in January 3rd of 2000 and ends on December 31st of 2019, around 20 years of data."
   ]
  },
  {
   "cell_type": "code",
   "execution_count": 7,
   "metadata": {},
   "outputs": [
    {
     "data": {
      "text/plain": [
       "(Timestamp('2000-01-03 00:00:00'), Timestamp('2019-12-31 00:00:00'))"
      ]
     },
     "execution_count": 7,
     "metadata": {},
     "output_type": "execute_result"
    }
   ],
   "source": [
    "np.min(df['date']), np.max(df['date'])"
   ]
  },
  {
   "cell_type": "markdown",
   "metadata": {},
   "source": [
    "Let's look at summary statistics for price. It seems like the average price is $1247.14 with the max and min being $3253.50 and $665.70"
   ]
  },
  {
   "cell_type": "code",
   "execution_count": 8,
   "metadata": {},
   "outputs": [
    {
     "data": {
      "text/html": [
       "<div>\n",
       "<style scoped>\n",
       "    .dataframe tbody tr th:only-of-type {\n",
       "        vertical-align: middle;\n",
       "    }\n",
       "\n",
       "    .dataframe tbody tr th {\n",
       "        vertical-align: top;\n",
       "    }\n",
       "\n",
       "    .dataframe thead th {\n",
       "        text-align: right;\n",
       "    }\n",
       "</style>\n",
       "<table border=\"1\" class=\"dataframe\">\n",
       "  <thead>\n",
       "    <tr style=\"text-align: right;\">\n",
       "      <th></th>\n",
       "      <th>summary_stats</th>\n",
       "    </tr>\n",
       "  </thead>\n",
       "  <tbody>\n",
       "    <tr>\n",
       "      <th>count</th>\n",
       "      <td>1.380250e+07</td>\n",
       "    </tr>\n",
       "    <tr>\n",
       "      <th>mean</th>\n",
       "      <td>1.247144e+03</td>\n",
       "    </tr>\n",
       "    <tr>\n",
       "      <th>std</th>\n",
       "      <td>2.645760e+02</td>\n",
       "    </tr>\n",
       "    <tr>\n",
       "      <th>min</th>\n",
       "      <td>6.657000e+02</td>\n",
       "    </tr>\n",
       "    <tr>\n",
       "      <th>25%</th>\n",
       "      <td>1.094500e+03</td>\n",
       "    </tr>\n",
       "    <tr>\n",
       "      <th>50%</th>\n",
       "      <td>1.223100e+03</td>\n",
       "    </tr>\n",
       "    <tr>\n",
       "      <th>75%</th>\n",
       "      <td>1.382400e+03</td>\n",
       "    </tr>\n",
       "    <tr>\n",
       "      <th>max</th>\n",
       "      <td>3.253500e+03</td>\n",
       "    </tr>\n",
       "  </tbody>\n",
       "</table>\n",
       "</div>"
      ],
      "text/plain": [
       "       summary_stats\n",
       "count   1.380250e+07\n",
       "mean    1.247144e+03\n",
       "std     2.645760e+02\n",
       "min     6.657000e+02\n",
       "25%     1.094500e+03\n",
       "50%     1.223100e+03\n",
       "75%     1.382400e+03\n",
       "max     3.253500e+03"
      ]
     },
     "execution_count": 8,
     "metadata": {},
     "output_type": "execute_result"
    }
   ],
   "source": [
    "pd.DataFrame({'summary_stats': df['price'].describe()})"
   ]
  },
  {
   "cell_type": "markdown",
   "metadata": {},
   "source": [
    "Plotting out the histogram of the prices, this data seems to be right-skewed."
   ]
  },
  {
   "cell_type": "code",
   "execution_count": 9,
   "metadata": {},
   "outputs": [
    {
     "data": {
      "image/png": "[encoded data removed]",
      "text/plain": [
       "<Figure size 1000x700 with 1 Axes>"
      ]
     },
     "metadata": {},
     "output_type": "display_data"
    }
   ],
   "source": [
    "fig, ax = plt.subplots(figsize = (10,7))\n",
    "ax.hist(df.price, bins=40, color='#658da3')\n",
    "\n",
    "\n",
    "min_ylim, max_ylim = plt.ylim()\n",
    "\n",
    "# label mean\n",
    "plt.axvline(df.price.mean(), color='k', linestyle='dashed', linewidth=1)\n",
    "plt.text(df.price.mean()*1.1, max_ylim*0.9, 'Mean: {:.2f}'.format(df.price.mean()))\n",
    "\n",
    "# label median\n",
    "plt.axvline(df.price.median(), color='r', linestyle='dashed', linewidth=1)\n",
    "plt.text(df.price.median()*1.1, max_ylim*0.7, 'Median: {:.2f}'.format(df.price.median()), color='r')\n",
    "\n",
    "# Graph labels\n",
    "ax.set_title(\"Histogram of S&P500 price distribution \",c='grey', weight = 'bold')\n",
    "ax.set_ylabel('Counts of price in data',c='grey', weight = 'bold')\n",
    "ax.set_xlabel('Price ($)',c='grey', weight = 'bold')\n",
    "\n",
    "#hide the frames, only show x and y axis\n",
    "ax.spines['top'].set_visible(False)\n",
    "ax.spines['right'].set_visible(False)\n",
    "\n",
    "plt.show()"
   ]
  },
  {
   "cell_type": "markdown",
   "metadata": {},
   "source": [
    "I will make some augmentation to create columns with the daily average, daily min, daily max, and daily_variance"
   ]
  },
  {
   "cell_type": "code",
   "execution_count": 10,
   "metadata": {},
   "outputs": [],
   "source": [
    "daily_mean_df = df.groupby('date')['price'].mean().to_frame('daily_avg').reset_index()\n",
    "daily_max_df = df.groupby('date')['price'].max().to_frame('daily_max').reset_index()\n",
    "daily_min_df = df.groupby('date')['price'].min().to_frame('daily_min').reset_index()\n",
    "\n",
    "df = pd.merge(df, daily_mean_df, left_on='date', right_on='date')\n",
    "df = pd.merge(df, daily_max_df, left_on='date', right_on='date')\n",
    "df = pd.merge(df, daily_min_df, left_on='date', right_on='date')\n",
    "df['daily_variance'] = df['daily_max'] - df['daily_min']"
   ]
  },
  {
   "cell_type": "code",
   "execution_count": 11,
   "metadata": {},
   "outputs": [
    {
     "data": {
      "text/html": [
       "<div>\n",
       "<style scoped>\n",
       "    .dataframe tbody tr th:only-of-type {\n",
       "        vertical-align: middle;\n",
       "    }\n",
       "\n",
       "    .dataframe tbody tr th {\n",
       "        vertical-align: top;\n",
       "    }\n",
       "\n",
       "    .dataframe thead th {\n",
       "        text-align: right;\n",
       "    }\n",
       "</style>\n",
       "<table border=\"1\" class=\"dataframe\">\n",
       "  <thead>\n",
       "    <tr style=\"text-align: right;\">\n",
       "      <th></th>\n",
       "      <th>date</th>\n",
       "      <th>time</th>\n",
       "      <th>price</th>\n",
       "      <th>volume</th>\n",
       "      <th>daily_avg</th>\n",
       "      <th>daily_max</th>\n",
       "      <th>daily_min</th>\n",
       "      <th>daily_variance</th>\n",
       "    </tr>\n",
       "  </thead>\n",
       "  <tbody>\n",
       "    <tr>\n",
       "      <th>0</th>\n",
       "      <td>2000-01-03</td>\n",
       "      <td>08:30:34</td>\n",
       "      <td>1496.4</td>\n",
       "      <td>0</td>\n",
       "      <td>1464.939479</td>\n",
       "      <td>1496.4</td>\n",
       "      <td>1452.0</td>\n",
       "      <td>44.4</td>\n",
       "    </tr>\n",
       "    <tr>\n",
       "      <th>1</th>\n",
       "      <td>2000-01-03</td>\n",
       "      <td>08:30:36</td>\n",
       "      <td>1496.0</td>\n",
       "      <td>0</td>\n",
       "      <td>1464.939479</td>\n",
       "      <td>1496.4</td>\n",
       "      <td>1452.0</td>\n",
       "      <td>44.4</td>\n",
       "    </tr>\n",
       "    <tr>\n",
       "      <th>2</th>\n",
       "      <td>2000-01-03</td>\n",
       "      <td>08:30:37</td>\n",
       "      <td>1495.5</td>\n",
       "      <td>0</td>\n",
       "      <td>1464.939479</td>\n",
       "      <td>1496.4</td>\n",
       "      <td>1452.0</td>\n",
       "      <td>44.4</td>\n",
       "    </tr>\n",
       "    <tr>\n",
       "      <th>3</th>\n",
       "      <td>2000-01-03</td>\n",
       "      <td>08:30:46</td>\n",
       "      <td>1495.0</td>\n",
       "      <td>0</td>\n",
       "      <td>1464.939479</td>\n",
       "      <td>1496.4</td>\n",
       "      <td>1452.0</td>\n",
       "      <td>44.4</td>\n",
       "    </tr>\n",
       "    <tr>\n",
       "      <th>4</th>\n",
       "      <td>2000-01-03</td>\n",
       "      <td>08:30:53</td>\n",
       "      <td>1495.5</td>\n",
       "      <td>0</td>\n",
       "      <td>1464.939479</td>\n",
       "      <td>1496.4</td>\n",
       "      <td>1452.0</td>\n",
       "      <td>44.4</td>\n",
       "    </tr>\n",
       "  </tbody>\n",
       "</table>\n",
       "</div>"
      ],
      "text/plain": [
       "        date      time   price  volume    daily_avg  daily_max  daily_min  \\\n",
       "0 2000-01-03  08:30:34  1496.4       0  1464.939479     1496.4     1452.0   \n",
       "1 2000-01-03  08:30:36  1496.0       0  1464.939479     1496.4     1452.0   \n",
       "2 2000-01-03  08:30:37  1495.5       0  1464.939479     1496.4     1452.0   \n",
       "3 2000-01-03  08:30:46  1495.0       0  1464.939479     1496.4     1452.0   \n",
       "4 2000-01-03  08:30:53  1495.5       0  1464.939479     1496.4     1452.0   \n",
       "\n",
       "   daily_variance  \n",
       "0            44.4  \n",
       "1            44.4  \n",
       "2            44.4  \n",
       "3            44.4  \n",
       "4            44.4  "
      ]
     },
     "execution_count": 11,
     "metadata": {},
     "output_type": "execute_result"
    }
   ],
   "source": [
    "df.head()"
   ]
  },
  {
   "cell_type": "code",
   "execution_count": 12,
   "metadata": {},
   "outputs": [
    {
     "data": {
      "text/html": [
       "<div>\n",
       "<style scoped>\n",
       "    .dataframe tbody tr th:only-of-type {\n",
       "        vertical-align: middle;\n",
       "    }\n",
       "\n",
       "    .dataframe tbody tr th {\n",
       "        vertical-align: top;\n",
       "    }\n",
       "\n",
       "    .dataframe thead th {\n",
       "        text-align: right;\n",
       "    }\n",
       "</style>\n",
       "<table border=\"1\" class=\"dataframe\">\n",
       "  <thead>\n",
       "    <tr style=\"text-align: right;\">\n",
       "      <th></th>\n",
       "      <th>date</th>\n",
       "      <th>daily_avg</th>\n",
       "      <th>daily_max</th>\n",
       "      <th>daily_min</th>\n",
       "      <th>daily_variance</th>\n",
       "    </tr>\n",
       "  </thead>\n",
       "  <tbody>\n",
       "    <tr>\n",
       "      <th>0</th>\n",
       "      <td>2000-01-03</td>\n",
       "      <td>1464.939479</td>\n",
       "      <td>1496.4</td>\n",
       "      <td>1452.0</td>\n",
       "      <td>44.4</td>\n",
       "    </tr>\n",
       "    <tr>\n",
       "      <th>1</th>\n",
       "      <td>2000-01-04</td>\n",
       "      <td>1434.881533</td>\n",
       "      <td>1453.5</td>\n",
       "      <td>1409.5</td>\n",
       "      <td>44.0</td>\n",
       "    </tr>\n",
       "    <tr>\n",
       "      <th>2</th>\n",
       "      <td>2000-01-05</td>\n",
       "      <td>1411.066877</td>\n",
       "      <td>1427.5</td>\n",
       "      <td>1387.0</td>\n",
       "      <td>40.5</td>\n",
       "    </tr>\n",
       "    <tr>\n",
       "      <th>3</th>\n",
       "      <td>2000-01-06</td>\n",
       "      <td>1416.693848</td>\n",
       "      <td>1425.8</td>\n",
       "      <td>1401.0</td>\n",
       "      <td>24.8</td>\n",
       "    </tr>\n",
       "    <tr>\n",
       "      <th>4</th>\n",
       "      <td>2000-01-07</td>\n",
       "      <td>1434.536222</td>\n",
       "      <td>1460.5</td>\n",
       "      <td>1412.0</td>\n",
       "      <td>48.5</td>\n",
       "    </tr>\n",
       "  </tbody>\n",
       "</table>\n",
       "</div>"
      ],
      "text/plain": [
       "        date    daily_avg  daily_max  daily_min  daily_variance\n",
       "0 2000-01-03  1464.939479     1496.4     1452.0            44.4\n",
       "1 2000-01-04  1434.881533     1453.5     1409.5            44.0\n",
       "2 2000-01-05  1411.066877     1427.5     1387.0            40.5\n",
       "3 2000-01-06  1416.693848     1425.8     1401.0            24.8\n",
       "4 2000-01-07  1434.536222     1460.5     1412.0            48.5"
      ]
     },
     "execution_count": 12,
     "metadata": {},
     "output_type": "execute_result"
    }
   ],
   "source": [
    "# grouped dataframe by day\n",
    "\n",
    "grouped_df = df[['date', 'daily_avg', 'daily_max', 'daily_min', 'daily_variance']].drop_duplicates().reset_index(drop=True)\n",
    "grouped_df.head()"
   ]
  },
  {
   "cell_type": "markdown",
   "metadata": {},
   "source": [
    "Below is a line plot of the daily avg price. There seems to be a dip from 2000 to 2003. Afterwards, there seems to be an upward trend from 2004 to 2007 and a dip in 2008~2009. Lastly, there seems to be a consistent upward trend from 2009 to 2020."
   ]
  },
  {
   "cell_type": "code",
   "execution_count": 13,
   "metadata": {},
   "outputs": [
    {
     "data": {
      "image/png": "[encoded data removed]",
      "text/plain": [
       "<Figure size 1000x700 with 1 Axes>"
      ]
     },
     "metadata": {},
     "output_type": "display_data"
    }
   ],
   "source": [
    "fig, ax = plt.subplots(figsize = (10,7))\n",
    "\n",
    "ax.plot(grouped_df.date, grouped_df.daily_avg, c='#658da3', lw=3)\n",
    "\n",
    "# Graph labels\n",
    "ax.set_title(\"S&P500 daily average price over time \",c='grey', weight = 'bold')\n",
    "ax.set_ylabel('Price ($)',c='grey', weight = 'bold')\n",
    "ax.set_xlabel('Date',c='grey', weight = 'bold')\n",
    "\n",
    "#hide the frames, only show x and y axis\n",
    "ax.spines['top'].set_visible(False)\n",
    "ax.spines['right'].set_visible(False)\n",
    "\n",
    "plt.show()"
   ]
  },
  {
   "cell_type": "markdown",
   "metadata": {},
   "source": [
    "The minimum variance days seems to be weekends since the market is not open."
   ]
  },
  {
   "cell_type": "code",
   "execution_count": 14,
   "metadata": {},
   "outputs": [
    {
     "data": {
      "text/html": [
       "<div>\n",
       "<style scoped>\n",
       "    .dataframe tbody tr th:only-of-type {\n",
       "        vertical-align: middle;\n",
       "    }\n",
       "\n",
       "    .dataframe tbody tr th {\n",
       "        vertical-align: top;\n",
       "    }\n",
       "\n",
       "    .dataframe thead th {\n",
       "        text-align: right;\n",
       "    }\n",
       "</style>\n",
       "<table border=\"1\" class=\"dataframe\">\n",
       "  <thead>\n",
       "    <tr style=\"text-align: right;\">\n",
       "      <th></th>\n",
       "      <th>date</th>\n",
       "      <th>daily_avg</th>\n",
       "      <th>daily_max</th>\n",
       "      <th>daily_min</th>\n",
       "      <th>daily_variance</th>\n",
       "    </tr>\n",
       "  </thead>\n",
       "  <tbody>\n",
       "    <tr>\n",
       "      <th>4955</th>\n",
       "      <td>2016-09-04</td>\n",
       "      <td>2179.2</td>\n",
       "      <td>2179.2</td>\n",
       "      <td>2179.2</td>\n",
       "      <td>0.0</td>\n",
       "    </tr>\n",
       "    <tr>\n",
       "      <th>5045</th>\n",
       "      <td>2016-12-18</td>\n",
       "      <td>2257.0</td>\n",
       "      <td>2257.0</td>\n",
       "      <td>2257.0</td>\n",
       "      <td>0.0</td>\n",
       "    </tr>\n",
       "    <tr>\n",
       "      <th>5083</th>\n",
       "      <td>2017-02-05</td>\n",
       "      <td>2290.9</td>\n",
       "      <td>2290.9</td>\n",
       "      <td>2290.9</td>\n",
       "      <td>0.0</td>\n",
       "    </tr>\n",
       "    <tr>\n",
       "      <th>5095</th>\n",
       "      <td>2017-02-19</td>\n",
       "      <td>2347.4</td>\n",
       "      <td>2347.4</td>\n",
       "      <td>2347.4</td>\n",
       "      <td>0.0</td>\n",
       "    </tr>\n",
       "    <tr>\n",
       "      <th>5113</th>\n",
       "      <td>2017-03-12</td>\n",
       "      <td>2366.8</td>\n",
       "      <td>2366.8</td>\n",
       "      <td>2366.8</td>\n",
       "      <td>0.0</td>\n",
       "    </tr>\n",
       "    <tr>\n",
       "      <th>5131</th>\n",
       "      <td>2017-04-02</td>\n",
       "      <td>2358.8</td>\n",
       "      <td>2358.8</td>\n",
       "      <td>2358.8</td>\n",
       "      <td>0.0</td>\n",
       "    </tr>\n",
       "    <tr>\n",
       "      <th>5350</th>\n",
       "      <td>2017-12-17</td>\n",
       "      <td>2687.5</td>\n",
       "      <td>2687.5</td>\n",
       "      <td>2687.5</td>\n",
       "      <td>0.0</td>\n",
       "    </tr>\n",
       "    <tr>\n",
       "      <th>5356</th>\n",
       "      <td>2017-12-25</td>\n",
       "      <td>2686.0</td>\n",
       "      <td>2686.0</td>\n",
       "      <td>2686.0</td>\n",
       "      <td>0.0</td>\n",
       "    </tr>\n",
       "    <tr>\n",
       "      <th>5361</th>\n",
       "      <td>2018-01-01</td>\n",
       "      <td>2678.4</td>\n",
       "      <td>2678.4</td>\n",
       "      <td>2678.4</td>\n",
       "      <td>0.0</td>\n",
       "    </tr>\n",
       "    <tr>\n",
       "      <th>5372</th>\n",
       "      <td>2018-01-14</td>\n",
       "      <td>2792.0</td>\n",
       "      <td>2792.0</td>\n",
       "      <td>2792.0</td>\n",
       "      <td>0.0</td>\n",
       "    </tr>\n",
       "    <tr>\n",
       "      <th>5557</th>\n",
       "      <td>2018-08-19</td>\n",
       "      <td>2851.7</td>\n",
       "      <td>2851.7</td>\n",
       "      <td>2851.7</td>\n",
       "      <td>0.0</td>\n",
       "    </tr>\n",
       "    <tr>\n",
       "      <th>5713</th>\n",
       "      <td>2019-02-17</td>\n",
       "      <td>2779.8</td>\n",
       "      <td>2779.8</td>\n",
       "      <td>2779.8</td>\n",
       "      <td>0.0</td>\n",
       "    </tr>\n",
       "    <tr>\n",
       "      <th>5966</th>\n",
       "      <td>2019-12-15</td>\n",
       "      <td>3183.7</td>\n",
       "      <td>3183.7</td>\n",
       "      <td>3183.7</td>\n",
       "      <td>0.0</td>\n",
       "    </tr>\n",
       "  </tbody>\n",
       "</table>\n",
       "</div>"
      ],
      "text/plain": [
       "           date  daily_avg  daily_max  daily_min  daily_variance\n",
       "4955 2016-09-04     2179.2     2179.2     2179.2             0.0\n",
       "5045 2016-12-18     2257.0     2257.0     2257.0             0.0\n",
       "5083 2017-02-05     2290.9     2290.9     2290.9             0.0\n",
       "5095 2017-02-19     2347.4     2347.4     2347.4             0.0\n",
       "5113 2017-03-12     2366.8     2366.8     2366.8             0.0\n",
       "5131 2017-04-02     2358.8     2358.8     2358.8             0.0\n",
       "5350 2017-12-17     2687.5     2687.5     2687.5             0.0\n",
       "5356 2017-12-25     2686.0     2686.0     2686.0             0.0\n",
       "5361 2018-01-01     2678.4     2678.4     2678.4             0.0\n",
       "5372 2018-01-14     2792.0     2792.0     2792.0             0.0\n",
       "5557 2018-08-19     2851.7     2851.7     2851.7             0.0\n",
       "5713 2019-02-17     2779.8     2779.8     2779.8             0.0\n",
       "5966 2019-12-15     3183.7     3183.7     3183.7             0.0"
      ]
     },
     "execution_count": 14,
     "metadata": {},
     "output_type": "execute_result"
    }
   ],
   "source": [
    "grouped_df[grouped_df['daily_variance'] == grouped_df['daily_variance'].min()]"
   ]
  },
  {
   "cell_type": "markdown",
   "metadata": {},
   "source": [
    "February 5th of 2018 had the highest variance in price with an increase of $229.40 in price"
   ]
  },
  {
   "cell_type": "code",
   "execution_count": 15,
   "metadata": {},
   "outputs": [
    {
     "data": {
      "text/html": [
       "<div>\n",
       "<style scoped>\n",
       "    .dataframe tbody tr th:only-of-type {\n",
       "        vertical-align: middle;\n",
       "    }\n",
       "\n",
       "    .dataframe tbody tr th {\n",
       "        vertical-align: top;\n",
       "    }\n",
       "\n",
       "    .dataframe thead th {\n",
       "        text-align: right;\n",
       "    }\n",
       "</style>\n",
       "<table border=\"1\" class=\"dataframe\">\n",
       "  <thead>\n",
       "    <tr style=\"text-align: right;\">\n",
       "      <th></th>\n",
       "      <th>date</th>\n",
       "      <th>daily_avg</th>\n",
       "      <th>daily_max</th>\n",
       "      <th>daily_min</th>\n",
       "      <th>daily_variance</th>\n",
       "    </tr>\n",
       "  </thead>\n",
       "  <tbody>\n",
       "    <tr>\n",
       "      <th>5391</th>\n",
       "      <td>2018-02-05</td>\n",
       "      <td>2655.076339</td>\n",
       "      <td>2761.2</td>\n",
       "      <td>2531.8</td>\n",
       "      <td>229.4</td>\n",
       "    </tr>\n",
       "  </tbody>\n",
       "</table>\n",
       "</div>"
      ],
      "text/plain": [
       "           date    daily_avg  daily_max  daily_min  daily_variance\n",
       "5391 2018-02-05  2655.076339     2761.2     2531.8           229.4"
      ]
     },
     "execution_count": 15,
     "metadata": {},
     "output_type": "execute_result"
    }
   ],
   "source": [
    "grouped_df[grouped_df['daily_variance'] == grouped_df['daily_variance'].max()]"
   ]
  },
  {
   "cell_type": "markdown",
   "metadata": {},
   "source": [
    "Below is a graph of the variance in price throughout the day"
   ]
  },
  {
   "cell_type": "code",
   "execution_count": 16,
   "metadata": {},
   "outputs": [
    {
     "data": {
      "image/png": "[encoded data removed]",
      "text/plain": [
       "<Figure size 1000x700 with 1 Axes>"
      ]
     },
     "metadata": {},
     "output_type": "display_data"
    }
   ],
   "source": [
    "fig, ax = plt.subplots(figsize = (10,7))\n",
    "\n",
    "ax.plot(grouped_df.date, grouped_df.daily_variance, c='#658da3', lw=3)\n",
    "\n",
    "# Graph labels\n",
    "ax.set_title(\"Daily variance in price \",c='grey', weight = 'bold')\n",
    "ax.set_ylabel('Price ($)',c='grey', weight = 'bold')\n",
    "ax.set_xlabel('Date',c='grey', weight = 'bold')\n",
    "\n",
    "#hide the frames, only show x and y axis\n",
    "ax.spines['top'].set_visible(False)\n",
    "ax.spines['right'].set_visible(False)\n",
    "\n",
    "plt.show()"
   ]
  },
  {
   "cell_type": "markdown",
   "metadata": {},
   "source": [
    "### Export as json for Kafka pipeline"
   ]
  },
  {
   "cell_type": "code",
   "execution_count": 17,
   "metadata": {},
   "outputs": [
    {
     "name": "stdout",
     "output_type": "stream",
     "text": [
      "<class 'pandas.core.frame.DataFrame'>\n",
      "RangeIndex: 13802502 entries, 0 to 13802501\n",
      "Data columns (total 8 columns):\n",
      " #   Column          Dtype  \n",
      "---  ------          -----  \n",
      " 0   date            object \n",
      " 1   time            object \n",
      " 2   price           float64\n",
      " 3   volume          int64  \n",
      " 4   daily_avg       float64\n",
      " 5   daily_max       float64\n",
      " 6   daily_min       float64\n",
      " 7   daily_variance  float64\n",
      "dtypes: float64(5), int64(1), object(2)\n",
      "memory usage: 842.4+ MB\n"
     ]
    }
   ],
   "source": [
    "df['date'] = df['date'].astype('str')\n",
    "df.info()"
   ]
  },
  {
   "cell_type": "code",
   "execution_count": null,
   "metadata": {},
   "outputs": [],
   "source": [
    "df.to_json('sp.json', orient=\"records\")"
   ]
  },
  {
   "cell_type": "code",
   "execution_count": null,
   "metadata": {},
   "outputs": [],
   "source": []
  }
 ],
 "metadata": {
  "kernelspec": {
   "display_name": "stock_market",
   "language": "python",
   "name": "python3"
  },
  "language_info": {
   "codemirror_mode": {
    "name": "ipython",
    "version": 3
   },
   "file_extension": ".py",
   "mimetype": "text/x-python",
   "name": "python",
   "nbconvert_exporter": "python",
   "pygments_lexer": "ipython3",
   "version": "3.9.6"
  },
  "orig_nbformat": 4
 },
 "nbformat": 4,
 "nbformat_minor": 2
}
